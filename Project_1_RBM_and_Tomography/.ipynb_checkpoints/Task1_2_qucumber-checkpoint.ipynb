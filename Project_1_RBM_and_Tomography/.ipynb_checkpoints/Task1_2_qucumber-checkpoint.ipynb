{
 "cells": [
  {
   "cell_type": "code",
   "execution_count": null,
   "metadata": {
    "colab": {
     "base_uri": "https://localhost:8080/",
     "height": 394
    },
    "colab_type": "code",
    "id": "UaM9v8pNMqtp",
    "outputId": "4e7f438f-3a5b-4031-ffc7-8872cd44e4e2"
   },
   "outputs": [
    {
     "name": "stdout",
     "output_type": "stream",
     "text": [
      "Collecting qucumber\n",
      "\u001b[?25l  Downloading https://files.pythonhosted.org/packages/10/e8/292ad2bfb467da09c882ca5a2a54ccad0fbaa5ff42f08209ddf8f013ac3e/qucumber-1.3.0-py3-none-any.whl (74kB)\n",
      "\u001b[K     |████████████████████████████████| 81kB 3.1MB/s \n",
      "\u001b[?25hRequirement already satisfied: scipy>=1.3.3 in /usr/local/lib/python3.6/dist-packages (from qucumber) (1.4.1)\n",
      "Requirement already satisfied: matplotlib>=2.2 in /usr/local/lib/python3.6/dist-packages (from qucumber) (3.2.2)\n",
      "Collecting torch<1.4,>=1.0; sys_platform != \"win32\"\n",
      "\u001b[?25l  Downloading https://files.pythonhosted.org/packages/88/95/90e8c4c31cfc67248bf944ba42029295b77159982f532c5689bcfe4e9108/torch-1.3.1-cp36-cp36m-manylinux1_x86_64.whl (734.6MB)\n",
      "\u001b[K     |████████████████████████████████| 734.6MB 17kB/s \n",
      "\u001b[?25hRequirement already satisfied: tqdm>=4.23 in /usr/local/lib/python3.6/dist-packages (from qucumber) (4.41.1)\n",
      "Requirement already satisfied: numpy>=1.13 in /usr/local/lib/python3.6/dist-packages (from qucumber) (1.18.5)\n",
      "Requirement already satisfied: cycler>=0.10 in /usr/local/lib/python3.6/dist-packages (from matplotlib>=2.2->qucumber) (0.10.0)\n",
      "Requirement already satisfied: kiwisolver>=1.0.1 in /usr/local/lib/python3.6/dist-packages (from matplotlib>=2.2->qucumber) (1.2.0)\n",
      "Requirement already satisfied: pyparsing!=2.0.4,!=2.1.2,!=2.1.6,>=2.0.1 in /usr/local/lib/python3.6/dist-packages (from matplotlib>=2.2->qucumber) (2.4.7)\n",
      "Requirement already satisfied: python-dateutil>=2.1 in /usr/local/lib/python3.6/dist-packages (from matplotlib>=2.2->qucumber) (2.8.1)\n",
      "Requirement already satisfied: six in /usr/local/lib/python3.6/dist-packages (from cycler>=0.10->matplotlib>=2.2->qucumber) (1.12.0)\n",
      "\u001b[31mERROR: torchvision 0.6.1+cu101 has requirement torch==1.5.1, but you'll have torch 1.3.1 which is incompatible.\u001b[0m\n",
      "Installing collected packages: torch, qucumber\n",
      "  Found existing installation: torch 1.5.1+cu101\n",
      "    Uninstalling torch-1.5.1+cu101:\n",
      "      Successfully uninstalled torch-1.5.1+cu101\n",
      "Successfully installed qucumber-1.3.0 torch-1.3.1\n"
     ]
    }
   ],
   "source": [
    "!pip install qucumber"
   ]
  },
  {
   "cell_type": "code",
   "execution_count": null,
   "metadata": {
    "colab": {},
    "colab_type": "code",
    "id": "mdysUI6OM4h5"
   },
   "outputs": [],
   "source": [
    "import numpy as np\n",
    "import matplotlib.pyplot as plt\n",
    "\n",
    "from qucumber.nn_states import PositiveWaveFunction\n",
    "from qucumber.callbacks import MetricEvaluator\n",
    "\n",
    "import qucumber.utils.training_statistics as ts\n",
    "import qucumber.utils.data as data\n",
    "import qucumber"
   ]
  },
  {
   "cell_type": "markdown",
   "metadata": {
    "colab_type": "text",
    "id": "Djy6qdkXOJBW"
   },
   "source": [
    "# Caso Rydberg"
   ]
  },
  {
   "cell_type": "code",
   "execution_count": null,
   "metadata": {
    "colab": {},
    "colab_type": "code",
    "id": "nYlDEd0XOP2H"
   },
   "outputs": [],
   "source": [
    "train_path = \"Rydberg_data.txt\"\n",
    "train_data = data.load_data(train_path)[0]\n",
    "\n",
    "nv = train_data.shape[-1]\n",
    "nh = nv\n",
    "nn_state = PositiveWaveFunction(num_visible=nv, num_hidden=nh, gpu=False)"
   ]
  },
  {
   "cell_type": "code",
   "execution_count": null,
   "metadata": {
    "colab": {},
    "colab_type": "code",
    "id": "k6NLkydxPu4s"
   },
   "outputs": [],
   "source": [
    "epochs = 400\n",
    "pbs = 100\n",
    "nbs = pbs\n",
    "lr = 0.01\n",
    "k = 10"
   ]
  },
  {
   "cell_type": "code",
   "execution_count": null,
   "metadata": {
    "colab": {},
    "colab_type": "code",
    "id": "Pyfesy_SPztr"
   },
   "outputs": [],
   "source": [
    "def psi_coefficient0(nn_state, space, A, **kwargs):\n",
    "    norm = nn_state.compute_normalization(space).sqrt_()\n",
    "    return A * nn_state.psi(space)[0][0] / norm"
   ]
  },
  {
   "cell_type": "code",
   "execution_count": null,
   "metadata": {
    "colab": {},
    "colab_type": "code",
    "id": "Dg3XtU1lP3fS"
   },
   "outputs": [],
   "source": [
    "period = 10\n",
    "space = nn_state.generate_hilbert_space()"
   ]
  },
  {
   "cell_type": "code",
   "execution_count": null,
   "metadata": {
    "colab": {},
    "colab_type": "code",
    "id": "r-lz6LEhP9jg"
   },
   "outputs": [],
   "source": [
    "callbacks = [\n",
    "    MetricEvaluator(\n",
    "        period,\n",
    "        {\"A_Ψrbm_0\": psi_coefficient0},\n",
    "        verbose=True,\n",
    "        space=space,\n",
    "        A=1.0,\n",
    "    )\n",
    "]\n",
    "\n",
    "nn_state.fit(\n",
    "    train_data,\n",
    "    epochs=epochs,\n",
    "    pos_batch_size=pbs,\n",
    "    neg_batch_size=nbs,\n",
    "    lr=lr,\n",
    "    k=k,\n",
    "    callbacks=callbacks,\n",
    "    time=True,\n",
    ")"
   ]
  },
  {
   "cell_type": "code",
   "execution_count": null,
   "metadata": {
    "colab": {},
    "colab_type": "code",
    "id": "LAFciDfrQC4e"
   },
   "outputs": [],
   "source": [
    "coeffs = callbacks[0][\"A_Ψrbm_0\"]\n",
    "epoch = np.arange(period, epochs + 1, period)\n",
    "\n",
    "# Plotting\n",
    "plt.plot(epoch, coeffs, \"o\", color=\"C2\", markeredgecolor=\"black\")\n",
    "\n",
    "plt.tight_layout()\n",
    "plt.show()"
   ]
  },
  {
   "cell_type": "markdown",
   "metadata": {
    "colab_type": "text",
    "id": "jJBq0qovOFTn"
   },
   "source": [
    "# Caso Ejemplo"
   ]
  },
  {
   "cell_type": "code",
   "execution_count": null,
   "metadata": {
    "colab": {},
    "colab_type": "code",
    "id": "nK4xUgJfM57B"
   },
   "outputs": [],
   "source": [
    "#psi_path = \"R_1.2_psi.txt\"\n",
    "train_path = \"R_1.2_samples.txt\"\n",
    "#train_data, true_psi = data.load_data(train_path, psi_path)\n",
    "train_data = data.load_data(train_path)[0]"
   ]
  },
  {
   "cell_type": "code",
   "execution_count": null,
   "metadata": {
    "colab": {},
    "colab_type": "code",
    "id": "o2jzTYI9TOzI"
   },
   "outputs": [],
   "source": [
    "nv = train_data.shape[-1]\n",
    "nh = nv\n",
    "nn_state = PositiveWaveFunction(num_visible=nv, num_hidden=nh, gpu=False)"
   ]
  },
  {
   "cell_type": "code",
   "execution_count": null,
   "metadata": {
    "colab": {},
    "colab_type": "code",
    "id": "XdseQuaoTYxc"
   },
   "outputs": [],
   "source": [
    "epochs = 400\n",
    "pbs = 100\n",
    "nbs = pbs\n",
    "lr = 0.01\n",
    "k = 10"
   ]
  },
  {
   "cell_type": "code",
   "execution_count": null,
   "metadata": {
    "colab": {},
    "colab_type": "code",
    "id": "EgK-l_LjTbU7"
   },
   "outputs": [],
   "source": [
    "def psi_coefficient0(nn_state, space, A, **kwargs):\n",
    "    norm = nn_state.compute_normalization(space).sqrt_()\n",
    "    return A * nn_state.psi(space)[0][0] / norm\n",
    "\n",
    "def psi_coefficient1(nn_state, space, A, **kwargs):\n",
    "    norm = nn_state.compute_normalization(space).sqrt_()\n",
    "    return A * nn_state.psi(space)[0][1] / norm\n",
    "\n",
    "def psi_coefficient2(nn_state, space, A, **kwargs):\n",
    "    norm = nn_state.compute_normalization(space).sqrt_()\n",
    "    return A * nn_state.psi(space)[0][2] / norm\n",
    "\n",
    "def psi_coefficient3(nn_state, space, A, **kwargs):\n",
    "    norm = nn_state.compute_normalization(space).sqrt_()\n",
    "    return A * nn_state.psi(space)[0][3] / norm"
   ]
  },
  {
   "cell_type": "code",
   "execution_count": null,
   "metadata": {
    "colab": {},
    "colab_type": "code",
    "id": "sZx9fj7YTdNO"
   },
   "outputs": [],
   "source": [
    "period = 10\n",
    "space = nn_state.generate_hilbert_space()"
   ]
  },
  {
   "cell_type": "code",
   "execution_count": null,
   "metadata": {
    "colab": {
     "base_uri": "https://localhost:8080/"
    },
    "colab_type": "code",
    "id": "RIas2F_4Te5i",
    "outputId": "156e8fed-56b5-43d3-9685-24d6be8f715e"
   },
   "outputs": [
    {
     "name": "stdout",
     "output_type": "stream",
     "text": [
      "Epoch: 10\tA_Ψrbm_0 = 0.264459\n",
      "Epoch: 20\tA_Ψrbm_0 = 0.225839\n",
      "Epoch: 30\tA_Ψrbm_0 = 0.216382\n",
      "Epoch: 40\tA_Ψrbm_0 = 0.213244\n",
      "Epoch: 50\tA_Ψrbm_0 = 0.209651\n",
      "Epoch: 60\tA_Ψrbm_0 = 0.206405\n",
      "Epoch: 70\tA_Ψrbm_0 = 0.206193\n",
      "Epoch: 80\tA_Ψrbm_0 = 0.201495\n",
      "Epoch: 90\tA_Ψrbm_0 = 0.199604\n",
      "Epoch: 100\tA_Ψrbm_0 = 0.197259\n",
      "Epoch: 110\tA_Ψrbm_0 = 0.196986\n",
      "Epoch: 120\tA_Ψrbm_0 = 0.194122\n",
      "Epoch: 130\tA_Ψrbm_0 = 0.190790\n",
      "Epoch: 140\tA_Ψrbm_0 = 0.189765\n",
      "Epoch: 150\tA_Ψrbm_0 = 0.185901\n",
      "Epoch: 160\tA_Ψrbm_0 = 0.183673\n",
      "Epoch: 170\tA_Ψrbm_0 = 0.181192\n",
      "Epoch: 180\tA_Ψrbm_0 = 0.180843\n",
      "Epoch: 190\tA_Ψrbm_0 = 0.177581\n",
      "Epoch: 200\tA_Ψrbm_0 = 0.174047\n",
      "Epoch: 210\tA_Ψrbm_0 = 0.172508\n",
      "Epoch: 220\tA_Ψrbm_0 = 0.168960\n",
      "Epoch: 230\tA_Ψrbm_0 = 0.167670\n",
      "Epoch: 240\tA_Ψrbm_0 = 0.164769\n",
      "Epoch: 250\tA_Ψrbm_0 = 0.162927\n",
      "Epoch: 260\tA_Ψrbm_0 = 0.159281\n",
      "Epoch: 270\tA_Ψrbm_0 = 0.157020\n",
      "Epoch: 280\tA_Ψrbm_0 = 0.153828\n",
      "Epoch: 290\tA_Ψrbm_0 = 0.152167\n",
      "Epoch: 300\tA_Ψrbm_0 = 0.149676\n",
      "Epoch: 310\tA_Ψrbm_0 = 0.146605\n",
      "Epoch: 320\tA_Ψrbm_0 = 0.143007\n",
      "Epoch: 330\tA_Ψrbm_0 = 0.142228\n",
      "Epoch: 340\tA_Ψrbm_0 = 0.139673\n",
      "Epoch: 350\tA_Ψrbm_0 = 0.137102\n",
      "Epoch: 360\tA_Ψrbm_0 = 0.135213\n",
      "Epoch: 370\tA_Ψrbm_0 = 0.132097\n",
      "Epoch: 380\tA_Ψrbm_0 = 0.129200\n",
      "Epoch: 390\tA_Ψrbm_0 = 0.127487\n",
      "Epoch: 400\tA_Ψrbm_0 = 0.124827\n",
      "Total time elapsed during training: 47.844 s\n"
     ]
    }
   ],
   "source": [
    "callbacks = [\n",
    "    MetricEvaluator(\n",
    "        period,\n",
    "        {\"A_Ψrbm_0\": psi_coefficient0},\n",
    "        verbose=True,\n",
    "        space=space,\n",
    "        A=1.0,\n",
    "    )\n",
    "]\n",
    "\n",
    "nn_state.fit(\n",
    "    train_data,\n",
    "    epochs=epochs,\n",
    "    pos_batch_size=pbs,\n",
    "    neg_batch_size=nbs,\n",
    "    lr=lr,\n",
    "    k=k,\n",
    "    callbacks=callbacks,\n",
    "    time=True,\n",
    ")"
   ]
  },
  {
   "cell_type": "code",
   "execution_count": null,
   "metadata": {
    "colab": {
     "base_uri": "https://localhost:8080/"
    },
    "colab_type": "code",
    "id": "CTRuLoGmJdKs",
    "outputId": "cafa8f4f-dac5-43ed-96ca-58378f56ea6f"
   },
   "outputs": [
    {
     "data": {
      "image/png": "[encoded data removed]",
      "text/plain": [
       "<Figure size 432x288 with 1 Axes>"
      ]
     },
     "metadata": {
      "needs_background": "light",
      "tags": []
     },
     "output_type": "display_data"
    }
   ],
   "source": [
    "coeffs = callbacks[0][\"A_Ψrbm_0\"]\n",
    "epoch = np.arange(period, epochs + 1, period)\n",
    "\n",
    "# Plotting\n",
    "plt.plot(epoch, coeffs, \"o\", color=\"C2\", markeredgecolor=\"black\")\n",
    "\n",
    "plt.tight_layout()\n",
    "plt.show()"
   ]
  },
  {
   "cell_type": "code",
   "execution_count": null,
   "metadata": {
    "colab": {
     "base_uri": "https://localhost:8080/"
    },
    "colab_type": "code",
    "id": "4lbCR5LlVkV8",
    "outputId": "6319a444-4be4-4dd7-cd01-3b6d6cb30358"
   },
   "outputs": [
    {
     "name": "stdout",
     "output_type": "stream",
     "text": [
      "Epoch: 10\tA_Ψrbm_1 = 0.195010\n",
      "Epoch: 20\tA_Ψrbm_1 = 0.194694\n",
      "Epoch: 30\tA_Ψrbm_1 = 0.196236\n",
      "Epoch: 40\tA_Ψrbm_1 = 0.197801\n",
      "Epoch: 50\tA_Ψrbm_1 = 0.203463\n",
      "Epoch: 60\tA_Ψrbm_1 = 0.202765\n",
      "Epoch: 70\tA_Ψrbm_1 = 0.203077\n",
      "Epoch: 80\tA_Ψrbm_1 = 0.206127\n",
      "Epoch: 90\tA_Ψrbm_1 = 0.205307\n",
      "Epoch: 100\tA_Ψrbm_1 = 0.205571\n",
      "Epoch: 110\tA_Ψrbm_1 = 0.204464\n",
      "Epoch: 120\tA_Ψrbm_1 = 0.205776\n",
      "Epoch: 130\tA_Ψrbm_1 = 0.209272\n",
      "Epoch: 140\tA_Ψrbm_1 = 0.208734\n",
      "Epoch: 150\tA_Ψrbm_1 = 0.209693\n",
      "Epoch: 160\tA_Ψrbm_1 = 0.210627\n",
      "Epoch: 170\tA_Ψrbm_1 = 0.212324\n",
      "Epoch: 180\tA_Ψrbm_1 = 0.215259\n",
      "Epoch: 190\tA_Ψrbm_1 = 0.211617\n",
      "Epoch: 200\tA_Ψrbm_1 = 0.211305\n",
      "Epoch: 210\tA_Ψrbm_1 = 0.215553\n",
      "Epoch: 220\tA_Ψrbm_1 = 0.214973\n",
      "Epoch: 230\tA_Ψrbm_1 = 0.212837\n",
      "Epoch: 240\tA_Ψrbm_1 = 0.213752\n",
      "Epoch: 250\tA_Ψrbm_1 = 0.214217\n",
      "Epoch: 260\tA_Ψrbm_1 = 0.219089\n",
      "Epoch: 270\tA_Ψrbm_1 = 0.217870\n",
      "Epoch: 280\tA_Ψrbm_1 = 0.220004\n",
      "Epoch: 290\tA_Ψrbm_1 = 0.215555\n",
      "Epoch: 300\tA_Ψrbm_1 = 0.218151\n",
      "Epoch: 310\tA_Ψrbm_1 = 0.218317\n",
      "Epoch: 320\tA_Ψrbm_1 = 0.218213\n",
      "Epoch: 330\tA_Ψrbm_1 = 0.219845\n",
      "Epoch: 340\tA_Ψrbm_1 = 0.218472\n",
      "Epoch: 350\tA_Ψrbm_1 = 0.217468\n",
      "Epoch: 360\tA_Ψrbm_1 = 0.218384\n",
      "Epoch: 370\tA_Ψrbm_1 = 0.218912\n",
      "Epoch: 380\tA_Ψrbm_1 = 0.217915\n",
      "Epoch: 390\tA_Ψrbm_1 = 0.224187\n",
      "Epoch: 400\tA_Ψrbm_1 = 0.219283\n",
      "Total time elapsed during training: 48.662 s\n"
     ]
    }
   ],
   "source": [
    "callbacks = [\n",
    "    MetricEvaluator(\n",
    "        period,\n",
    "        {\"A_Ψrbm_1\": psi_coefficient1},\n",
    "        verbose=True,\n",
    "        space=space,\n",
    "        A=1.0,\n",
    "    )\n",
    "]\n",
    "\n",
    "nn_state.fit(\n",
    "    train_data,\n",
    "    epochs=epochs,\n",
    "    pos_batch_size=pbs,\n",
    "    neg_batch_size=nbs,\n",
    "    lr=lr,\n",
    "    k=k,\n",
    "    callbacks=callbacks,\n",
    "    time=True,\n",
    ")"
   ]
  },
  {
   "cell_type": "code",
   "execution_count": null,
   "metadata": {
    "colab": {
     "base_uri": "https://localhost:8080/"
    },
    "colab_type": "code",
    "id": "Qe1QBzLAJf_5",
    "outputId": "8b42e7be-8f86-4d59-8577-560a0d2df9e6"
   },
   "outputs": [
    {
     "data": {
      "image/png": "[encoded data removed]",
      "text/plain": [
       "<Figure size 432x288 with 1 Axes>"
      ]
     },
     "metadata": {
      "needs_background": "light",
      "tags": []
     },
     "output_type": "display_data"
    }
   ],
   "source": [
    "coeffs = callbacks[0][\"A_Ψrbm_1\"]\n",
    "epoch = np.arange(period, epochs + 1, period)\n",
    "\n",
    "# Plotting\n",
    "plt.plot(epoch, coeffs, \"o\", color=\"C2\", markeredgecolor=\"black\")\n",
    "\n",
    "plt.tight_layout()\n",
    "plt.show()"
   ]
  },
  {
   "cell_type": "code",
   "execution_count": null,
   "metadata": {
    "colab": {
     "base_uri": "https://localhost:8080/"
    },
    "colab_type": "code",
    "id": "9vze_pq_VrQz",
    "outputId": "4780ba12-8c78-4b34-90d5-6e488d428f57"
   },
   "outputs": [
    {
     "name": "stdout",
     "output_type": "stream",
     "text": [
      "Epoch: 10\tA_Ψrbm_2 = 0.969494\n",
      "Epoch: 20\tA_Ψrbm_2 = 0.969175\n",
      "Epoch: 30\tA_Ψrbm_2 = 0.971041\n",
      "Epoch: 40\tA_Ψrbm_2 = 0.971312\n",
      "Epoch: 50\tA_Ψrbm_2 = 0.970588\n",
      "Epoch: 60\tA_Ψrbm_2 = 0.970615\n",
      "Epoch: 70\tA_Ψrbm_2 = 0.970523\n",
      "Epoch: 80\tA_Ψrbm_2 = 0.969797\n",
      "Epoch: 90\tA_Ψrbm_2 = 0.970746\n",
      "Epoch: 100\tA_Ψrbm_2 = 0.971439\n",
      "Epoch: 110\tA_Ψrbm_2 = 0.970400\n",
      "Epoch: 120\tA_Ψrbm_2 = 0.970107\n",
      "Epoch: 130\tA_Ψrbm_2 = 0.970316\n",
      "Epoch: 140\tA_Ψrbm_2 = 0.970097\n",
      "Epoch: 150\tA_Ψrbm_2 = 0.969936\n",
      "Epoch: 160\tA_Ψrbm_2 = 0.970737\n",
      "Epoch: 170\tA_Ψrbm_2 = 0.970888\n",
      "Epoch: 180\tA_Ψrbm_2 = 0.970812\n",
      "Epoch: 190\tA_Ψrbm_2 = 0.971162\n",
      "Epoch: 200\tA_Ψrbm_2 = 0.971031\n",
      "Epoch: 210\tA_Ψrbm_2 = 0.970771\n",
      "Epoch: 220\tA_Ψrbm_2 = 0.970388\n",
      "Epoch: 230\tA_Ψrbm_2 = 0.971699\n",
      "Epoch: 240\tA_Ψrbm_2 = 0.972252\n",
      "Epoch: 250\tA_Ψrbm_2 = 0.972248\n",
      "Epoch: 260\tA_Ψrbm_2 = 0.971139\n",
      "Epoch: 270\tA_Ψrbm_2 = 0.971238\n",
      "Epoch: 280\tA_Ψrbm_2 = 0.971170\n",
      "Epoch: 290\tA_Ψrbm_2 = 0.970825\n",
      "Epoch: 300\tA_Ψrbm_2 = 0.971025\n",
      "Epoch: 310\tA_Ψrbm_2 = 0.971298\n",
      "Epoch: 320\tA_Ψrbm_2 = 0.971020\n",
      "Epoch: 330\tA_Ψrbm_2 = 0.970201\n",
      "Epoch: 340\tA_Ψrbm_2 = 0.969048\n",
      "Epoch: 350\tA_Ψrbm_2 = 0.970062\n",
      "Epoch: 360\tA_Ψrbm_2 = 0.971360\n",
      "Epoch: 370\tA_Ψrbm_2 = 0.971595\n",
      "Epoch: 380\tA_Ψrbm_2 = 0.970937\n",
      "Epoch: 390\tA_Ψrbm_2 = 0.971249\n",
      "Epoch: 400\tA_Ψrbm_2 = 0.971245\n",
      "Total time elapsed during training: 48.109 s\n"
     ]
    }
   ],
   "source": [
    "callbacks = [\n",
    "    MetricEvaluator(\n",
    "        period,\n",
    "        {\"A_Ψrbm_2\": psi_coefficient2},\n",
    "        verbose=True,\n",
    "        space=space,\n",
    "        A=1.0,\n",
    "    )\n",
    "]\n",
    "\n",
    "nn_state.fit(\n",
    "    train_data,\n",
    "    epochs=epochs,\n",
    "    pos_batch_size=pbs,\n",
    "    neg_batch_size=nbs,\n",
    "    lr=lr,\n",
    "    k=k,\n",
    "    callbacks=callbacks,\n",
    "    time=True,\n",
    ")\n",
    "\n"
   ]
  },
  {
   "cell_type": "code",
   "execution_count": null,
   "metadata": {
    "colab": {
     "base_uri": "https://localhost:8080/"
    },
    "colab_type": "code",
    "id": "xjQMIpjjJiIq",
    "outputId": "16d9aaa0-ad65-4c24-ed73-aa6ca7bc9973"
   },
   "outputs": [
    {
     "data": {
      "image/png": "[encoded data removed]",
      "text/plain": [
       "<Figure size 432x288 with 1 Axes>"
      ]
     },
     "metadata": {
      "needs_background": "light",
      "tags": []
     },
     "output_type": "display_data"
    }
   ],
   "source": [
    "coeffs = callbacks[0][\"A_Ψrbm_2\"]\n",
    "epoch = np.arange(period, epochs + 1, period)\n",
    "\n",
    "# Plotting\n",
    "plt.plot(epoch, coeffs, \"o\", color=\"C2\", markeredgecolor=\"black\")\n",
    "\n",
    "plt.tight_layout()\n",
    "plt.show()"
   ]
  },
  {
   "cell_type": "code",
   "execution_count": null,
   "metadata": {
    "colab": {
     "base_uri": "https://localhost:8080/"
    },
    "colab_type": "code",
    "id": "aheanKCiVt4j",
    "outputId": "b69aacbd-b539-4149-a676-a3e2ff42d980"
   },
   "outputs": [
    {
     "name": "stdout",
     "output_type": "stream",
     "text": [
      "Epoch: 10\tA_Ψrbm_3 = 0.052334\n",
      "Epoch: 20\tA_Ψrbm_3 = 0.052288\n",
      "Epoch: 30\tA_Ψrbm_3 = 0.051705\n",
      "Epoch: 40\tA_Ψrbm_3 = 0.051224\n",
      "Epoch: 50\tA_Ψrbm_3 = 0.050850\n",
      "Epoch: 60\tA_Ψrbm_3 = 0.050318\n",
      "Epoch: 70\tA_Ψrbm_3 = 0.049781\n",
      "Epoch: 80\tA_Ψrbm_3 = 0.049821\n",
      "Epoch: 90\tA_Ψrbm_3 = 0.048993\n",
      "Epoch: 100\tA_Ψrbm_3 = 0.049189\n",
      "Epoch: 110\tA_Ψrbm_3 = 0.048748\n",
      "Epoch: 120\tA_Ψrbm_3 = 0.048615\n",
      "Epoch: 130\tA_Ψrbm_3 = 0.048523\n",
      "Epoch: 140\tA_Ψrbm_3 = 0.048367\n",
      "Epoch: 150\tA_Ψrbm_3 = 0.048137\n",
      "Epoch: 160\tA_Ψrbm_3 = 0.047906\n",
      "Epoch: 170\tA_Ψrbm_3 = 0.047706\n",
      "Epoch: 180\tA_Ψrbm_3 = 0.047676\n",
      "Epoch: 190\tA_Ψrbm_3 = 0.047029\n",
      "Epoch: 200\tA_Ψrbm_3 = 0.046420\n",
      "Epoch: 210\tA_Ψrbm_3 = 0.046414\n",
      "Epoch: 220\tA_Ψrbm_3 = 0.046175\n",
      "Epoch: 230\tA_Ψrbm_3 = 0.046148\n",
      "Epoch: 240\tA_Ψrbm_3 = 0.046022\n",
      "Epoch: 250\tA_Ψrbm_3 = 0.045584\n",
      "Epoch: 260\tA_Ψrbm_3 = 0.045561\n",
      "Epoch: 270\tA_Ψrbm_3 = 0.045152\n",
      "Epoch: 280\tA_Ψrbm_3 = 0.045080\n",
      "Epoch: 290\tA_Ψrbm_3 = 0.044999\n",
      "Epoch: 300\tA_Ψrbm_3 = 0.044452\n",
      "Epoch: 310\tA_Ψrbm_3 = 0.044354\n",
      "Epoch: 320\tA_Ψrbm_3 = 0.043937\n",
      "Epoch: 330\tA_Ψrbm_3 = 0.043796\n",
      "Epoch: 340\tA_Ψrbm_3 = 0.043512\n",
      "Epoch: 350\tA_Ψrbm_3 = 0.043734\n",
      "Epoch: 360\tA_Ψrbm_3 = 0.043703\n",
      "Epoch: 370\tA_Ψrbm_3 = 0.043138\n",
      "Epoch: 380\tA_Ψrbm_3 = 0.043091\n",
      "Epoch: 390\tA_Ψrbm_3 = 0.043073\n",
      "Epoch: 400\tA_Ψrbm_3 = 0.042787\n",
      "Total time elapsed during training: 47.820 s\n"
     ]
    }
   ],
   "source": [
    "callbacks = [\n",
    "    MetricEvaluator(\n",
    "        period,\n",
    "        {\"A_Ψrbm_3\": psi_coefficient3},\n",
    "        verbose=True,\n",
    "        space=space,\n",
    "        A=1.0,\n",
    "    )\n",
    "]\n",
    "\n",
    "nn_state.fit(\n",
    "    train_data,\n",
    "    epochs=epochs,\n",
    "    pos_batch_size=pbs,\n",
    "    neg_batch_size=nbs,\n",
    "    lr=lr,\n",
    "    k=k,\n",
    "    callbacks=callbacks,\n",
    "    time=True,\n",
    ")"
   ]
  },
  {
   "cell_type": "code",
   "execution_count": null,
   "metadata": {
    "colab": {
     "base_uri": "https://localhost:8080/"
    },
    "colab_type": "code",
    "id": "dKZPqa1AHB4Q",
    "outputId": "3ed0c62b-6fb4-4ba3-96dd-1ff7d4cd7d7b"
   },
   "outputs": [
    {
     "data": {
      "image/png": "[encoded data removed]",
      "text/plain": [
       "<Figure size 432x288 with 1 Axes>"
      ]
     },
     "metadata": {
      "needs_background": "light",
      "tags": []
     },
     "output_type": "display_data"
    }
   ],
   "source": [
    "coeffs = callbacks[0][\"A_Ψrbm_3\"]\n",
    "epoch = np.arange(period, epochs + 1, period)\n",
    "\n",
    "# Plotting\n",
    "plt.plot(epoch, coeffs, \"o\", color=\"C2\", markeredgecolor=\"black\")\n",
    "\n",
    "plt.tight_layout()\n",
    "plt.show()"
   ]
  },
  {
   "cell_type": "markdown",
   "metadata": {
    "colab_type": "text",
    "id": "g-fClFacGyXe"
   },
   "source": [
    "# De acá en adelante no sirve porque no calculamos la fidelidad ni el KL"
   ]
  },
  {
   "cell_type": "code",
   "execution_count": null,
   "metadata": {
    "colab": {},
    "colab_type": "code",
    "id": "Ck42dfqxTgVY"
   },
   "outputs": [],
   "source": [
    "# Note that the key given to the *MetricEvaluator* must be\n",
    "# what comes after callbacks[0].\n",
    "fidelities = callbacks[0].Fidelity\n",
    "\n",
    "# Alternatively, we can use the usual dictionary/list subsripting\n",
    "# syntax. This is useful in cases where the name of the\n",
    "# metric contains special characters or spaces.\n",
    "KLs = callbacks[0][\"KL\"]\n",
    "coeffs = callbacks[0][\"A_Ψrbm_3\"]\n",
    "epoch = np.arange(period, epochs + 1, period)"
   ]
  },
  {
   "cell_type": "code",
   "execution_count": null,
   "metadata": {
    "colab": {
     "base_uri": "https://localhost:8080/"
    },
    "colab_type": "code",
    "id": "VIXqCHcZTn2d",
    "outputId": "70f52476-a700-4f51-b9e2-077c47be11fc"
   },
   "outputs": [
    {
     "data": {
      "image/png": "[encoded data removed]",
      "text/plain": [
       "<Figure size 1008x216 with 3 Axes>"
      ]
     },
     "metadata": {
      "needs_background": "light",
      "tags": []
     },
     "output_type": "display_data"
    }
   ],
   "source": [
    "# Plotting\n",
    "fig, axs = plt.subplots(nrows=1, ncols=3, figsize=(14, 3))\n",
    "ax = axs[0]\n",
    "ax.plot(epoch, fidelities, \"o\", color=\"C0\", markeredgecolor=\"black\")\n",
    "ax.set_ylabel(r\"Fidelity\")\n",
    "ax.set_xlabel(r\"Epoch\")\n",
    "\n",
    "ax = axs[1]\n",
    "ax.plot(epoch, KLs, \"o\", color=\"C1\", markeredgecolor=\"black\")\n",
    "ax.set_ylabel(r\"KL Divergence\")\n",
    "ax.set_xlabel(r\"Epoch\")\n",
    "\n",
    "ax = axs[2]\n",
    "ax.plot(epoch, coeffs, \"o\", color=\"C2\", markeredgecolor=\"black\")\n",
    "ax.set_ylabel(r\"$A\\psi_{RBM}[0]$\")\n",
    "ax.set_xlabel(r\"Epoch\")\n",
    "\n",
    "plt.tight_layout()\n",
    "plt.show()"
   ]
  },
  {
   "cell_type": "code",
   "execution_count": null,
   "metadata": {
    "colab": {},
    "colab_type": "code",
    "id": "NTl516ZaTpcb"
   },
   "outputs": [],
   "source": []
  }
 ],
 "metadata": {
  "colab": {
   "collapsed_sections": [
    "jJBq0qovOFTn",
    "g-fClFacGyXe"
   ],
   "name": "Task1/2 - qucumber.ipynb",
   "provenance": []
  },
  "kernelspec": {
   "display_name": "Python 3",
   "language": "python",
   "name": "python3"
  },
  "language_info": {
   "codemirror_mode": {
    "name": "ipython",
    "version": 3
   },
   "file_extension": ".py",
   "mimetype": "text/x-python",
   "name": "python",
   "nbconvert_exporter": "python",
   "pygments_lexer": "ipython3",
   "version": "3.8.2"
  }
 },
 "nbformat": 4,
 "nbformat_minor": 1
}
