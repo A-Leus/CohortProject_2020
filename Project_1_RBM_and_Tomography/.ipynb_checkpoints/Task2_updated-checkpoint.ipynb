{
 "cells": [
  {
   "cell_type": "markdown",
   "metadata": {},
   "source": [
    "## Task #2\n",
    "\n",
    "A template code for training an RBM on Rydberg atom data (the full dataset) is provided below. For the first part of this task (determining the minimum number of hidden units).\n"
   ]
  },
  {
   "cell_type": "markdown",
   "metadata": {},
   "source": [
    "Your input data for this task will be binary data from 100 atoms. Already, we've hit the ``curse of dimensionality'': the brute force problem at hand scales as $2^N$ in terms of computational resources, where $N$ is the number of Rydberg atoms. To solve this problem via brute force, we'd only be able to go up to around $N = 12$! \n",
    "\n",
    "The input data file is Rydberg\\_data.txt. To train an RBM on this data, we will look at evaluating the energy $\\textit{during}$ training to see how well the RBM is doing and stop the training process once we see that it's done well enough (dubbed the ``learning criterion''). The energy can be calculated using the energy function in Rydberg\\_energy\\_calculator.py. The learning criterion you'll use is $\\vert E_{RBM} - E_{exact} \\vert \\leq 0.0001$ (i.e. train the RBM until this is satisfied), where $E_{exact} = -4.1203519096$. However, don't wait forever for the RBM to try and satisfy the learning criterion. Only wait 1000 training steps (epochs)."
   ]
  },
  {
   "cell_type": "markdown",
   "metadata": {},
   "source": [
    "We've given you a very large dataset in \\texttt{Rydberg\\_data.txt}. So let's evaluate how ``hard'' the learning problem is (i.e. how many hidden units to reach our learning criterion). Use the entire dataset to determine the minimum number of hidden units required in order to obtain the learning criterion. The ``size'' of the compressed entity that the RBM spits out is the equivalent storage of $100 + n_h + n_h \\times 100$ numbers, where $n_h$ is the number of hidden units that you found (start with $n_h = 1$). "
   ]
  },
  {
   "cell_type": "code",
   "execution_count": 4,
   "metadata": {
    "colab": {},
    "colab_type": "code",
    "id": "mnOc0DF6bcw7"
   },
   "outputs": [],
   "source": [
    "import numpy as np\n",
    "import torch\n",
    "import Rydberg_energy_calculator\n",
    "from RBM_helper import RBM\n",
    "\n",
    "training_data = torch.from_numpy(np.loadtxt(\"Rydberg_data.txt\"))"
   ]
  },
  {
   "cell_type": "code",
   "execution_count": null,
   "metadata": {
    "colab": {
     "base_uri": "https://localhost:8080/",
     "height": 476
    },
    "colab_type": "code",
    "id": "H6Y9DjdSb7JB",
    "outputId": "1521d95f-3a0c-4ef4-dc4a-45c69576b5b3"
   },
   "outputs": [
    {
     "name": "stdout",
     "output_type": "stream",
     "text": [
      "Exact energy:  -4.1203519096\n",
      "\n",
      " The number of hidden units is:  1\n"
     ]
    },
    {
     "name": "stderr",
     "output_type": "stream",
     "text": [
      "/pytorch/aten/src/ATen/native/BinaryOps.cpp:81: UserWarning: Integer division of tensors using div or / is deprecated, and in a future release div will perform true division as in Python 3. Use true_divide or floor_divide (// in Python) instead.\n"
     ]
    },
    {
     "name": "stdout",
     "output_type": "stream",
     "text": [
      "Epoch: 100 . Energy from RBM samples: -4.120062240258802 . Error: 0.0002896693411980067\n",
      "Epoch: 200 . Energy from RBM samples: -4.119976002260587 . Error: 0.00037590733941339494\n",
      "Epoch: 300 . Energy from RBM samples: -4.120082717140181 . Error: 0.0002691924598190454\n",
      "Epoch: 400 . Energy from RBM samples: -4.120004489701917 . Error: 0.00034741989808306784\n",
      "Epoch: 500 . Energy from RBM samples: -4.120038590317868 . Error: 0.00031331928213251814\n",
      "Epoch: 600 . Energy from RBM samples: -4.120016504978766 . Error: 0.0003354046212340478\n",
      "Epoch: 700 . Energy from RBM samples: -4.120052344188419 . Error: 0.0002995654115807156\n",
      "Epoch: 800 . Energy from RBM samples: -4.120031126971855 . Error: 0.0003207826281448334\n",
      "Epoch: 900 . Energy from RBM samples: -4.120077148590775 . Error: 0.0002747610092255215\n",
      "Epoch: 1000 . Energy from RBM samples: -4.1201191562144714 . Error: 0.000232753385528639\n",
      "\n",
      " The number of hidden units is:  2\n",
      "Epoch: 100 . Energy from RBM samples: -4.119901615188974 . Error: 0.00045029441102606427\n"
     ]
    }
   ],
   "source": [
    "flag = 0\n",
    "i = 0\n",
    "epochs = 1000\n",
    "num_samples = 20000 \n",
    "n_vis = training_data.shape[1]\n",
    "exact_energy = -4.1203519096\n",
    "print(\"Exact energy: \",exact_energy)\n",
    "\n",
    "while flag == 0 :\n",
    "  i = i + 1\n",
    "  n_hin = i\n",
    "  rbm = RBM(n_vis, n_hin)\n",
    "  print(\"\\n The number of hidden units is: \", n_hin)\n",
    "  \n",
    "  e = 0\n",
    "  while (e < epochs):\n",
    "    e = e + 1\n",
    "    rbm.train(training_data)   \n",
    "    if e % 100 == 0:\n",
    "      init_state = torch.zeros(num_samples, n_vis)\n",
    "      RBM_samples = rbm.draw_samples(1000, init_state)\n",
    "      energies = Rydberg_energy_calculator.energy(RBM_samples, rbm.wavefunction) \n",
    "      print(\"Epoch:\", e,\". Energy from RBM samples:\", energies.item(),\". Error:\", abs(exact_energy - energies.item()))\n",
    "      if (abs(exact_energy - energies.item()) < 0.0002):\n",
    "        print(\"FINAL NUMBER OF HIDDEN UNITS:\", n_hin)\n",
    "        print(\"FINAL NUMBER OF EPOCHS:\", e)\n",
    "        print(\"ERROR:\", abs(exact_energy - energies.item()))\n",
    "        e = epochs\n",
    "        flag = 1"
   ]
  },
  {
   "cell_type": "markdown",
   "metadata": {},
   "source": [
    "How does this compare to $2^{100}$? The rbm model is linear: $100 + n_h + n_h \\times 100$. If you set the n_visible you have a line with n_hidden as a variable. "
   ]
  },
  {
   "cell_type": "markdown",
   "metadata": {},
   "source": [
    "Double the number of hidden units determined in the previous question and determine how many data points (i.e. the portion of the full dataset in $\\texttt{Rydberg\\_data.txt}$) you need to reach the learning criterion. Start with 500 data points. Move up in increments of at least 100 (depending on how precise you want to be!). This will let experimentalists know the minimum amount of data required from their experiment!"
   ]
  },
  {
   "cell_type": "code",
   "execution_count": null,
   "metadata": {
    "colab": {
     "base_uri": "https://localhost:8080/",
     "height": 85
    },
    "colab_type": "code",
    "id": "G4NEzI8CYllc",
    "outputId": "597a909b-fa0b-4097-b091-9ea88b52ffca"
   },
   "outputs": [
    {
     "name": "stdout",
     "output_type": "stream",
     "text": [
      "Exact energy:  -4.1203519096 . Hidden units: 4 .\n",
      "\n",
      "La cantidad de samples es:  10\n",
      "Epoch: 100 . Energy from RBM samples: -4.121750277501969 . Error: 0.001398367901969344\n"
     ]
    }
   ],
   "source": [
    "flag = 0\n",
    "i = 0\n",
    "epochs = 1000\n",
    "n_hin = 2 * 2 # in the previous case it converged with 2 units\n",
    "n_vis = training_data.shape[1]\n",
    "exact_energy = -4.1203519096\n",
    "print(\"Exact energy: \",exact_energy,\". Hidden units:\",n_hin,\".\")\n",
    "\n",
    "while flag == 0 :\n",
    "  i = i + 1\n",
    "  num_samples = 10 * i\n",
    "  rbm = RBM(n_vis, n_hin)\n",
    "  print(\"\\nThe number of samples is: \", num_samples)\n",
    "  \n",
    "  e = 0\n",
    "  while (e < epochs):\n",
    "    e = e + 1\n",
    "    rbm.train(training_data)   \n",
    "    if e % 100 == 0:\n",
    "      init_state = torch.zeros(num_samples, n_vis)\n",
    "      RBM_samples = rbm.draw_samples(1000, init_state)\n",
    "      energies = Rydberg_energy_calculator.energy(RBM_samples, rbm.wavefunction) \n",
    "      print(\"Epoch:\", e,\". Energy from RBM samples:\", energies.item(),\". Error:\", abs(exact_energy - energies.item()))\n",
    "      if (abs(exact_energy - energies.item()) < 0.0002):\n",
    "        print(\"NUMBER OF SAMPLES:\", num_samples)\n",
    "        print(\"FINAL NUMBER OF EPOCHS:\", e)\n",
    "        print(\"ERROR:\", abs(exact_energy - energies.item()))\n",
    "        e = epochs\n",
    "        flag = 1"
   ]
  },
  {
   "cell_type": "code",
   "execution_count": null,
   "metadata": {
    "colab": {},
    "colab_type": "code",
    "id": "KSmzieDRaJH8"
   },
   "outputs": [],
   "source": []
  }
 ],
 "metadata": {
  "colab": {
   "collapsed_sections": [],
   "name": "Task2 - final.ipynb",
   "provenance": []
  },
  "kernelspec": {
   "display_name": "Python 3",
   "language": "python",
   "name": "python3"
  },
  "language_info": {
   "codemirror_mode": {
    "name": "ipython",
    "version": 3
   },
   "file_extension": ".py",
   "mimetype": "text/x-python",
   "name": "python",
   "nbconvert_exporter": "python",
   "pygments_lexer": "ipython3",
   "version": "3.8.2"
  }
 },
 "nbformat": 4,
 "nbformat_minor": 1
}
