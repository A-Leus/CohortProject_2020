{
 "cells": [
  {
   "cell_type": "code",
   "execution_count": 4,
   "metadata": {
    "colab": {
     "base_uri": "https://localhost:8080/",
     "height": 224
    },
    "colab_type": "code",
    "id": "EG40iC8QwL5C",
    "outputId": "af85664b-20d6-4117-811d-aedcd089ef4f"
   },
   "outputs": [
    {
     "name": "stdout",
     "output_type": "stream",
     "text": [
      "Requirement already satisfied: qucumber in /usr/local/lib/python3.6/dist-packages (1.3.0)\n",
      "Requirement already satisfied: torch<1.4,>=1.0; sys_platform != \"win32\" in /usr/local/lib/python3.6/dist-packages (from qucumber) (1.3.1)\n",
      "Requirement already satisfied: tqdm>=4.23 in /usr/local/lib/python3.6/dist-packages (from qucumber) (4.41.1)\n",
      "Requirement already satisfied: matplotlib>=2.2 in /usr/local/lib/python3.6/dist-packages (from qucumber) (3.2.2)\n",
      "Requirement already satisfied: scipy>=1.3.3 in /usr/local/lib/python3.6/dist-packages (from qucumber) (1.4.1)\n",
      "Requirement already satisfied: numpy>=1.13 in /usr/local/lib/python3.6/dist-packages (from qucumber) (1.18.5)\n",
      "Requirement already satisfied: python-dateutil>=2.1 in /usr/local/lib/python3.6/dist-packages (from matplotlib>=2.2->qucumber) (2.8.1)\n",
      "Requirement already satisfied: kiwisolver>=1.0.1 in /usr/local/lib/python3.6/dist-packages (from matplotlib>=2.2->qucumber) (1.2.0)\n",
      "Requirement already satisfied: pyparsing!=2.0.4,!=2.1.2,!=2.1.6,>=2.0.1 in /usr/local/lib/python3.6/dist-packages (from matplotlib>=2.2->qucumber) (2.4.7)\n",
      "Requirement already satisfied: cycler>=0.10 in /usr/local/lib/python3.6/dist-packages (from matplotlib>=2.2->qucumber) (0.10.0)\n",
      "Requirement already satisfied: six>=1.5 in /usr/local/lib/python3.6/dist-packages (from python-dateutil>=2.1->matplotlib>=2.2->qucumber) (1.12.0)\n"
     ]
    }
   ],
   "source": [
    "!pip install qucumber"
   ]
  },
  {
   "cell_type": "code",
   "execution_count": 5,
   "metadata": {
    "colab": {},
    "colab_type": "code",
    "id": "mnOc0DF6bcw7"
   },
   "outputs": [],
   "source": [
    "import numpy as np\n",
    "import torch\n",
    "import Rydberg_energy_calculator\n",
    "from RBM_helper import RBM\n",
    "\n",
    "training_data = torch.from_numpy(np.loadtxt(\"Rydberg_data.txt\"))"
   ]
  },
  {
   "cell_type": "code",
   "execution_count": 6,
   "metadata": {
    "colab": {
     "base_uri": "https://localhost:8080/",
     "height": 476
    },
    "colab_type": "code",
    "id": "H6Y9DjdSb7JB",
    "outputId": "1521d95f-3a0c-4ef4-dc4a-45c69576b5b3"
   },
   "outputs": [
    {
     "name": "stdout",
     "output_type": "stream",
     "text": [
      "Exact energy:  -4.1203519096\n",
      "\n",
      "La cantidad de hidden units es:  1\n",
      "Epoch: 100 . Energy from RBM samples: -4.119976871477735 . Error: 0.0003750381222653587\n",
      "Epoch: 200 . Energy from RBM samples: -4.120032244128325 . Error: 0.0003196654716752789\n",
      "Epoch: 300 . Energy from RBM samples: -4.12004331541187 . Error: 0.000308594188130229\n",
      "Epoch: 400 . Energy from RBM samples: -4.120024760576894 . Error: 0.0003271490231062657\n",
      "Epoch: 500 . Energy from RBM samples: -4.1199860648019015 . Error: 0.00036584479809853576\n",
      "Epoch: 600 . Energy from RBM samples: -4.120090285656705 . Error: 0.00026162394329531935\n",
      "Epoch: 700 . Energy from RBM samples: -4.120054397307573 . Error: 0.0002975122924269158\n",
      "Epoch: 800 . Energy from RBM samples: -4.120087980890762 . Error: 0.0002639287092378595\n",
      "Epoch: 900 . Energy from RBM samples: -4.120020206544076 . Error: 0.00033170305592378213\n",
      "Epoch: 1000 . Energy from RBM samples: -4.120044871210799 . Error: 0.00030703838920143056\n",
      "\n",
      "La cantidad de hidden units es:  2\n",
      "Epoch: 100 . Energy from RBM samples: -4.120087200506173 . Error: 0.0002647090938268093\n",
      "Epoch: 200 . Energy from RBM samples: -4.119821641109657 . Error: 0.0005302684903432109\n",
      "Epoch: 300 . Energy from RBM samples: -4.119936668542383 . Error: 0.00041524105761681085\n",
      "Epoch: 400 . Energy from RBM samples: -4.12007532063721 . Error: 0.0002765889627900364\n",
      "Epoch: 500 . Energy from RBM samples: -4.119939008485233 . Error: 0.0004129011147666617\n",
      "Epoch: 600 . Energy from RBM samples: -4.120020964666655 . Error: 0.00033094493334484554\n",
      "Epoch: 700 . Energy from RBM samples: -4.120076746924711 . Error: 0.00027516267528948646\n",
      "Epoch: 800 . Energy from RBM samples: -4.120054739013159 . Error: 0.00029717058684131104\n",
      "Epoch: 900 . Energy from RBM samples: -4.120153674904909 . Error: 0.00019823469509105962\n",
      "CANTIDAD FINAL DE HIDDEN UNITS: 2\n",
      "CANTIDAD FINAL DE EPOCAS: 900\n",
      "ERROR: 0.00019823469509105962\n"
     ]
    }
   ],
   "source": [
    "flag = 0\n",
    "i = 0\n",
    "epochs = 1000\n",
    "num_samples = 20000 \n",
    "n_vis = training_data.shape[1]\n",
    "exact_energy = -4.1203519096\n",
    "print(\"Exact energy: \",exact_energy)\n",
    "\n",
    "while flag == 0 :\n",
    "  i = i + 1\n",
    "  n_hin = i\n",
    "  rbm = RBM(n_vis, n_hin)\n",
    "  print(\"\\nLa cantidad de hidden units es: \", n_hin)\n",
    "  \n",
    "  e = 0\n",
    "  while (e < epochs):\n",
    "    e = e + 1\n",
    "    rbm.train(training_data)   \n",
    "    if e % 100 == 0:\n",
    "      init_state = torch.zeros(num_samples, n_vis)\n",
    "      RBM_samples = rbm.draw_samples(1000, init_state)\n",
    "      energies = Rydberg_energy_calculator.energy(RBM_samples, rbm.wavefunction) \n",
    "      print(\"Epoch:\", e,\". Energy from RBM samples:\", energies.item(),\". Error:\", abs(exact_energy - energies.item()))\n",
    "      if (abs(exact_energy - energies.item()) < 0.0002):\n",
    "        print(\"CANTIDAD FINAL DE HIDDEN UNITS:\", n_hin)\n",
    "        print(\"CANTIDAD FINAL DE EPOCAS:\", e)\n",
    "        print(\"ERROR:\", abs(exact_energy - energies.item()))\n",
    "        e = epochs\n",
    "        flag = 1"
   ]
  },
  {
   "cell_type": "code",
   "execution_count": null,
   "metadata": {
    "colab": {
     "base_uri": "https://localhost:8080/",
     "height": 85
    },
    "colab_type": "code",
    "id": "G4NEzI8CYllc",
    "outputId": "597a909b-fa0b-4097-b091-9ea88b52ffca"
   },
   "outputs": [
    {
     "name": "stdout",
     "output_type": "stream",
     "text": [
      "Exact energy:  -4.1203519096 . Hidden units: 4 .\n",
      "\n",
      "La cantidad de samples es:  10\n",
      "Epoch: 100 . Energy from RBM samples: -4.121750277501969 . Error: 0.001398367901969344\n"
     ]
    }
   ],
   "source": [
    "flag = 0\n",
    "i = 0\n",
    "epochs = 1000\n",
    "n_hin = 2 * 2 # en el caso anterior convergió con 2 units\n",
    "n_vis = training_data.shape[1]\n",
    "exact_energy = -4.1203519096\n",
    "print(\"Exact energy: \",exact_energy,\". Hidden units:\",n_hin,\".\")\n",
    "\n",
    "while flag == 0 :\n",
    "  i = i + 1\n",
    "  num_samples = 10 * i\n",
    "  rbm = RBM(n_vis, n_hin)\n",
    "  print(\"\\nLa cantidad de samples es: \", num_samples)\n",
    "  \n",
    "  e = 0\n",
    "  while (e < epochs):\n",
    "    e = e + 1\n",
    "    rbm.train(training_data)   \n",
    "    if e % 100 == 0:\n",
    "      init_state = torch.zeros(num_samples, n_vis)\n",
    "      RBM_samples = rbm.draw_samples(1000, init_state)\n",
    "      energies = Rydberg_energy_calculator.energy(RBM_samples, rbm.wavefunction) \n",
    "      print(\"Epoch:\", e,\". Energy from RBM samples:\", energies.item(),\". Error:\", abs(exact_energy - energies.item()))\n",
    "      if (abs(exact_energy - energies.item()) < 0.0002):\n",
    "        print(\"CANTIDAD DE SAMPLES:\", num_samples)\n",
    "        print(\"CANTIDAD FINAL DE EPOCAS:\", e)\n",
    "        print(\"ERROR:\", abs(exact_energy - energies.item()))\n",
    "        e = epochs\n",
    "        flag = 1"
   ]
  },
  {
   "cell_type": "code",
   "execution_count": null,
   "metadata": {
    "colab": {},
    "colab_type": "code",
    "id": "KSmzieDRaJH8"
   },
   "outputs": [],
   "source": []
  }
 ],
 "metadata": {
  "colab": {
   "collapsed_sections": [],
   "name": "Task2 - final.ipynb",
   "provenance": []
  },
  "kernelspec": {
   "display_name": "Python 3",
   "language": "python",
   "name": "python3"
  },
  "language_info": {
   "codemirror_mode": {
    "name": "ipython",
    "version": 3
   },
   "file_extension": ".py",
   "mimetype": "text/x-python",
   "name": "python",
   "nbconvert_exporter": "python",
   "pygments_lexer": "ipython3",
   "version": "3.8.2"
  }
 },
 "nbformat": 4,
 "nbformat_minor": 1
}
