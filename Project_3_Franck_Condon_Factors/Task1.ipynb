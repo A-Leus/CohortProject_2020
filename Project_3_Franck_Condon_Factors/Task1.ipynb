{
 "cells": [
  {
   "cell_type": "markdown",
   "metadata": {},
   "source": [
    "# Task 1\n",
    "\n",
    "A template code for calculating FCFs for $H_2$ - $H_2^+$ using the harmonic oscillator approximation. \n",
    "\n",
    "Imports annd constants used for unit analysis:"
   ]
  },
  {
   "cell_type": "code",
   "execution_count": 3,
   "metadata": {},
   "outputs": [],
   "source": [
    "from math import factorial\n",
    "from numpy import sqrt, pi, exp, zeros\n",
    "from numpy.polynomial.hermite import hermval\n",
    "from numpy.polynomial.legendre import leggauss\n",
    "\n",
    "hbar=1.0\n",
    "amu_to_me=1822.888486209\n",
    "invcm_to_invEh=100.0*5.29177210903*pow(10.,-11.)*137.036*2*pi\n",
    "AngtoBohr=1.88973\n",
    "\n",
    "# Define integration bounds for FCFs                                                                             \n",
    "quadraturepoints=5000\n",
    "R_min=-5.0  #Ang                                                                                                 \n",
    "R_max=5.0   #Ang                                                                                                 \n",
    "\n",
    "# Number of ground/excited state modes to calculate FCFs for                                                     \n",
    "n_0=3\n",
    "n_p=3\n",
    "\n",
    "# Information about the diatomic system                                                                          \n",
    "reduced_mass=1.00784/2.   #amu                                                                                   \n",
    "omega_0=4401.0            #cm-1                                                                                  \n",
    "omega_p=2322.0            #cm-1                                                                                  \n",
    "eqgeom_0=0.742            #Ang                                                                                   \n",
    "eqgeom_p=1.057            #Ang                                                                                   \n",
    "ion_energy=124418.457     #cm-1\n",
    "\n",
    "# CONVERT TO ATOMIC UNITS                                                                                        \n",
    "reduced_mass*=amu_to_me\n",
    "omega_0*=invcm_to_invEh\n",
    "omega_p*=invcm_to_invEh\n",
    "\n",
    "\n",
    "eqgeom_0*=AngtoBohr\n",
    "eqgeom_p*=AngtoBohr\n",
    "R_min*=AngtoBohr\n",
    "R_max*=AngtoBohr\n",
    "\n",
    "\n",
    "# CALCULATE ALPHA PARAMETER                                                                                      \n",
    "alpha_0=reduced_mass*omega_0/hbar\n",
    "alpha_p=reduced_mass*omega_p/hbar"
   ]
  },
  {
   "cell_type": "markdown",
   "metadata": {},
   "source": [
    "The harmonic oscillator wavefunction:"
   ]
  },
  {
   "cell_type": "code",
   "execution_count": 4,
   "metadata": {},
   "outputs": [],
   "source": [
    "def psi (alpha,eqgeom,R,state):\n",
    "    n=state\n",
    "    prefactor=pow(alpha/pi,0.25)/(sqrt(pow(2.0,n)*factorial(n)))\n",
    "    coeffs=zeros(n+1,float)\n",
    "    coeffs[n]=1.0\n",
    "    hermpoly=hermval(sqrt(alpha)*(R-eqgeom),coeffs)\n",
    "    return prefactor*exp(-0.5*alpha*(R-eqgeom)**2)*hermpoly"
   ]
  },
  {
   "cell_type": "code",
   "execution_count": 5,
   "metadata": {},
   "outputs": [
    {
     "name": "stdout",
     "output_type": "stream",
     "text": [
      "n_0    n_p      FC\n",
      "  0     0      1.000\n",
      "  0     1      2.951\n",
      "  0     2      3.490\n",
      "  1     0      1.557\n",
      "  1     1      1.423\n",
      "  2     0      1.742\n",
      "  2     1      0.347\n",
      "  2     2      0.500\n"
     ]
    }
   ],
   "source": [
    "GLquad=leggauss(quadraturepoints)\n",
    "print(\"n_0    n_p      FC\")\n",
    "for i in range(n_0):\n",
    "    E_0=hbar*omega_0*(i+0.5)/invcm_to_invEh\n",
    "    for j in range(n_p):\n",
    "        E_p=hbar*omega_p*(j+0.5)/invcm_to_invEh+ion_energy\n",
    "        overlap=0.0\n",
    "        for p in range(quadraturepoints):\n",
    "\n",
    "            #Coordinate Transformation to expand bounds of integration                                           \n",
    "            newpoint=0.5*(R_max-R_min)*GLquad[0][p]+0.5*(R_max+R_min)\n",
    "            newweight=0.5*(R_max-R_min)*GLquad[1][p]\n",
    "\n",
    "            #Perform numerical integration to calculate FC Factor                                                \n",
    "            overlap+= psi(alpha_0,eqgeom_0, newpoint,i)*psi(alpha_p,eqgeom_p,newpoint,j)*newweight\n",
    "\n",
    "        #####################################                                                                    \n",
    "        ########## PRINT FC FACTORS #########                                                                    \n",
    "\t#####################################                                                                    \n",
    "        FC=overlap*overlap\n",
    "        if (i==0 and j==0):\n",
    "            reference=FC\n",
    "        if (FC>pow(10.,-3)):\n",
    "            FC/=reference\n",
    "            print(f'{i:3} {j:5} {FC:10.3f}')"
   ]
  },
  {
   "cell_type": "code",
   "execution_count": null,
   "metadata": {},
   "outputs": [],
   "source": [
    "#################################\n",
    "####### PLOT THE SPECTRUM #######\n",
    "#################################\n",
    "\n",
    "# This code initially only prints out the vibrational quantum\n",
    "# numbers of the lower surface (i) and the upper surface (j)\n",
    "# along with the Franck-Condon Factor (FC)\n",
    "\n",
    "# A spectrum is a visual representation of these transitions with\n",
    "# the difference in energy between the upper state (E_p) and\n",
    "# lower state (E_0) plotted on the x-axis and the Franck-Condon\n",
    "# Factor plotted on the y-axis (FC)\n",
    "\n",
    "# Task: Plot the spectrum with energies in units of eV\n"
   ]
  }
 ],
 "metadata": {
  "kernelspec": {
   "display_name": "Python 3",
   "language": "python",
   "name": "python3"
  },
  "language_info": {
   "codemirror_mode": {
    "name": "ipython",
    "version": 3
   },
   "file_extension": ".py",
   "mimetype": "text/x-python",
   "name": "python",
   "nbconvert_exporter": "python",
   "pygments_lexer": "ipython3",
   "version": "3.7.3"
  }
 },
 "nbformat": 4,
 "nbformat_minor": 2
}
