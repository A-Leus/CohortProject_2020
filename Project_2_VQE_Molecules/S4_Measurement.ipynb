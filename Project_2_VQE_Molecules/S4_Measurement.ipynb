{
 "cells": [
  {
   "cell_type": "code",
   "execution_count": 1,
   "metadata": {},
   "outputs": [],
   "source": [
    "from utility import * "
   ]
  },
  {
   "cell_type": "markdown",
   "metadata": {},
   "source": [
    "Not all terms in the Hamiltonian are measurable at once in a quantum computer. Since the quantum computer measures qubit by qubit, each measurable fragments must all have the same terms (X, Y or Z) on each qubit.\n",
    "\n",
    "Here, we use $H_2$ as an example. Notice below that all 3 fragments have the same terms on all qubits. They are qubit-wise commuting.  "
   ]
  },
  {
   "cell_type": "code",
   "execution_count": 2,
   "metadata": {
    "tags": []
   },
   "outputs": [
    {
     "output_type": "stream",
     "name": "stdout",
     "text": "1st fragments: \n (-0.32760818967480887+0j) [] +\n(0.04919764587136755+0j) [Y0 Z1 Y2] +\n(0.04919764587136755+0j) [Y0 Z1 Y2 Z3] +\n(0.15660062488237947+0j) [Z1] +\n(0.16326768673564346+0j) [Z1 Z3]\n\n2nd fragments:\n (0.04919764587136755+0j) [X0 Z1 X2] +\n(0.04919764587136755+0j) [X0 Z1 X2 Z3]\n\n3rd fragments:\n (0.13716572937099497+0j) [Z0] +\n(0.13716572937099492+0j) [Z0 Z1] +\n(0.15542669077992832+0j) [Z0 Z1 Z2] +\n(0.15542669077992832+0j) [Z0 Z1 Z2 Z3] +\n(0.10622904490856075+0j) [Z0 Z2] +\n(0.10622904490856075+0j) [Z0 Z2 Z3] +\n(-0.13036292057109117+0j) [Z1 Z2 Z3] +\n(-0.13036292057109117+0j) [Z2]\n\n"
    }
   ],
   "source": [
    "h2 = get_qubit_hamiltonian(mol='h2', geometry=1, basis='sto3g')\n",
    "\n",
    "qwc_list = get_qwc_group(h2)\n",
    "print('1st fragments: \\n {}\\n'.format(qwc_list[0]))\n",
    "print('2nd fragments:\\n {}\\n'.format(qwc_list[1]))\n",
    "print('3rd fragments:\\n {}\\n'.format(qwc_list[2]))"
   ]
  },
  {
   "cell_type": "markdown",
   "metadata": {},
   "source": [
    "Obtain measurable parts by partitioning into mutually commuting fragments. "
   ]
  },
  {
   "cell_type": "code",
   "execution_count": 3,
   "metadata": {
    "tags": []
   },
   "outputs": [
    {
     "output_type": "stream",
     "name": "stdout",
     "text": "Number of mutually commuting parts: 2\nThe first commuting group\n(-0.32760818967480887+0j) [] +\n(0.04919764587136755+0j) [X0 Z1 X2] +\n(0.04919764587136755+0j) [X0 Z1 X2 Z3] +\n(0.04919764587136755+0j) [Y0 Z1 Y2] +\n(0.04919764587136755+0j) [Y0 Z1 Y2 Z3] +\n(0.15542669077992832+0j) [Z0 Z1 Z2] +\n(0.15542669077992832+0j) [Z0 Z1 Z2 Z3] +\n(0.10622904490856075+0j) [Z0 Z2] +\n(0.10622904490856075+0j) [Z0 Z2 Z3] +\n(0.15660062488237947+0j) [Z1] +\n(0.16326768673564346+0j) [Z1 Z3]\n"
    }
   ],
   "source": [
    "comm_groups = get_commuting_group(h2)\n",
    "print('Number of mutually commuting parts: {}'.format(len(comm_groups)))\n",
    "print('The first commuting group')\n",
    "print(comm_groups[1])"
   ]
  },
  {
   "cell_type": "markdown",
   "metadata": {},
   "source": [
    "To see each part is indeed measurable, one can construct the unitary operator that rotates all terms into qubit-wise commuting terms.To see each part is indeed measurable, one can construct the unitary operator that rotates all terms into qubit-wise commuting terms."
   ]
  },
  {
   "cell_type": "code",
   "execution_count": 4,
   "metadata": {
    "tags": []
   },
   "outputs": [
    {
     "output_type": "stream",
     "name": "stdout",
     "text": "This is unitary. U * U^+ = I \n(0.9999999999999996+0j) []\n"
    }
   ],
   "source": [
    "u = get_qwc_unitary(comm_groups[1])\n",
    "print('This is unitary. U * U^+ = I ')\n",
    "print(u * u)"
   ]
  },
  {
   "cell_type": "markdown",
   "metadata": {},
   "source": [
    "The qubit-wise commuting form of the first mutually commuting group"
   ]
  },
  {
   "cell_type": "code",
   "execution_count": 5,
   "metadata": {
    "tags": []
   },
   "outputs": [
    {
     "output_type": "stream",
     "name": "stdout",
     "text": "(-0.32760818967480876+0j) [] +\n(0.1062290449085607+0j) [X0] +\n(0.1554266907799282+0j) [X0 X1] +\n(-0.04919764587136754+0j) [X0 X1 Z2] +\n(-0.04919764587136754+0j) [X0 X1 Z2 X3] +\n(0.1554266907799282+0j) [X0 X1 X3] +\n(0.1062290449085607+0j) [X0 X3] +\n(0.1566006248823793+0j) [X1] +\n(0.04919764587136754+0j) [X1 Z2] +\n(0.04919764587136754+0j) [X1 Z2 X3] +\n(0.16326768673564332+0j) [X1 X3]\n"
    }
   ],
   "source": [
    "print(u * comm_groups[1] * u)"
   ]
  }
 ],
 "metadata": {
  "language_info": {
   "codemirror_mode": {
    "name": "ipython",
    "version": 3
   },
   "file_extension": ".py",
   "mimetype": "text/x-python",
   "name": "python",
   "nbconvert_exporter": "python",
   "pygments_lexer": "ipython3",
   "version": "3.7.3-final"
  },
  "orig_nbformat": 2,
  "kernelspec": {
   "name": "python37364bitf1584ce13f534e54aa6c5bb9673096a5",
   "display_name": "Python 3.7.3 64-bit"
  }
 },
 "nbformat": 4,
 "nbformat_minor": 2
}