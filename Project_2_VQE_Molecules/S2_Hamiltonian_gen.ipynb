{
 "cells": [
  {
   "cell_type": "code",
   "execution_count": 1,
   "metadata": {},
   "outputs": [],
   "source": [
    "from utility import *"
   ]
  },
  {
   "cell_type": "markdown",
   "metadata": {},
   "source": [
    "Specify the Qubit Hamiltonian of a molecule by name, internuclear distances, and the basis set.\n",
    "Here, we show all the relevant terms of H2. "
   ]
  },
  {
   "cell_type": "code",
   "execution_count": 2,
   "metadata": {
    "tags": []
   },
   "outputs": [
    {
     "output_type": "stream",
     "name": "stdout",
     "text": "(0.04919764587136755+0j) [X0 Z1 X2] +\n(0.04919764587136755+0j) [X0 Z1 X2 Z3] +\n(0.04919764587136755+0j) [Y0 Z1 Y2] +\n(0.04919764587136755+0j) [Y0 Z1 Y2 Z3] +\n(0.13716572937099497+0j) [Z0] +\n(0.13716572937099492+0j) [Z0 Z1] +\n(0.15542669077992832+0j) [Z0 Z1 Z2] +\n(0.15542669077992832+0j) [Z0 Z1 Z2 Z3] +\n(0.10622904490856075+0j) [Z0 Z2] +\n(0.10622904490856075+0j) [Z0 Z2 Z3] +\n(0.15660062488237947+0j) [Z1] +\n(-0.13036292057109117+0j) [Z1 Z2 Z3] +\n(0.16326768673564346+0j) [Z1 Z3] +\n(-0.13036292057109117+0j) [Z2]\n"
    }
   ],
   "source": [
    "h2 = get_qubit_hamiltonian(mol='h2', geometry=1, basis='sto3g')\n",
    "\n",
    "# This is due to a current tequila bug that fires when constant is invovled. We should be able to get rid of this line by July 1\n",
    "constant = h2.constant\n",
    "h2 = h2 - QubitOperator(term=[], coefficient=constant)\n",
    "print(h2)"
   ]
  },
  {
   "cell_type": "markdown",
   "metadata": {},
   "source": [
    "However, not all terms are measurable at once in a quantum computer. Since the quantum computer measures qubit by qubit, each measurable fragments must all have the same terms (X, Y or Z) on each qubit. \n",
    "\n",
    "Notice below that all 3 fragments have the same terms on all qubits. They are qubit-wise commuting. "
   ]
  },
  {
   "cell_type": "code",
   "execution_count": 3,
   "metadata": {
    "tags": []
   },
   "outputs": [
    {
     "output_type": "stream",
     "name": "stdout",
     "text": "1st fragments: \n (0.04919764587136755+0j) [Y0 Z1 Y2] +\n(0.04919764587136755+0j) [Y0 Z1 Y2 Z3] +\n(0.15660062488237947+0j) [Z1] +\n(0.16326768673564346+0j) [Z1 Z3]\n\n2nd fragments:\n (0.04919764587136755+0j) [X0 Z1 X2] +\n(0.04919764587136755+0j) [X0 Z1 X2 Z3]\n\n3rd fragments:\n (0.13716572937099497+0j) [Z0] +\n(0.13716572937099492+0j) [Z0 Z1] +\n(0.15542669077992832+0j) [Z0 Z1 Z2] +\n(0.15542669077992832+0j) [Z0 Z1 Z2 Z3] +\n(0.10622904490856075+0j) [Z0 Z2] +\n(0.10622904490856075+0j) [Z0 Z2 Z3] +\n(-0.13036292057109117+0j) [Z1 Z2 Z3] +\n(-0.13036292057109117+0j) [Z2]\n\n"
    }
   ],
   "source": [
    "qwc_list = get_qwc_group(h2)\n",
    "print('1st fragments: \\n {}\\n'.format(qwc_list[0]))\n",
    "print('2nd fragments:\\n {}\\n'.format(qwc_list[1]))\n",
    "print('3rd fragments:\\n {}\\n'.format(qwc_list[2]))"
   ]
  },
  {
   "cell_type": "markdown",
   "metadata": {},
   "source": [
    "Obtain measurable parts by partitioning into mutually commuting fragments. "
   ]
  },
  {
   "cell_type": "code",
   "execution_count": 4,
   "metadata": {
    "tags": []
   },
   "outputs": [
    {
     "output_type": "stream",
     "name": "stdout",
     "text": "Number of mutually commuting parts: 2\nThe first commuting group\n(0.04919764587136755+0j) [X0 Z1 X2] +\n(0.04919764587136755+0j) [X0 Z1 X2 Z3] +\n(0.04919764587136755+0j) [Y0 Z1 Y2] +\n(0.04919764587136755+0j) [Y0 Z1 Y2 Z3] +\n(0.15542669077992832+0j) [Z0 Z1 Z2] +\n(0.15542669077992832+0j) [Z0 Z1 Z2 Z3] +\n(0.10622904490856075+0j) [Z0 Z2] +\n(0.10622904490856075+0j) [Z0 Z2 Z3] +\n(0.15660062488237947+0j) [Z1] +\n(0.16326768673564346+0j) [Z1 Z3]\n"
    }
   ],
   "source": [
    "comm_groups = get_commuting_group(h2)\n",
    "print('Number of mutually commuting parts: {}'.format(len(comm_groups)))\n",
    "print('The first commuting group')\n",
    "print(comm_groups[1])"
   ]
  },
  {
   "cell_type": "markdown",
   "metadata": {},
   "source": [
    "To see each part is indeed measurable, one can construct the unitary operator that rotates all terms into qubit-wise commuting terms."
   ]
  },
  {
   "cell_type": "code",
   "execution_count": 5,
   "metadata": {
    "tags": []
   },
   "outputs": [
    {
     "output_type": "stream",
     "name": "stdout",
     "text": "This is unitary. U * U^+ = I \n(0.9999999999999996+0j) []\n"
    }
   ],
   "source": [
    "u = get_qwc_unitary(comm_groups[1])\n",
    "print('This is unitary. U * U^+ = I ')\n",
    "print(u * u)"
   ]
  },
  {
   "cell_type": "markdown",
   "metadata": {},
   "source": [
    "The qubit-wise commuting form of the first mutually commuting group"
   ]
  },
  {
   "cell_type": "code",
   "execution_count": 6,
   "metadata": {
    "tags": []
   },
   "outputs": [
    {
     "output_type": "stream",
     "name": "stdout",
     "text": "(0.1062290449085607+0j) [X0] +\n(0.1554266907799282+0j) [X0 X1] +\n(-0.04919764587136754+0j) [X0 X1 Z2] +\n(-0.04919764587136754+0j) [X0 X1 Z2 X3] +\n(0.1554266907799282+0j) [X0 X1 X3] +\n(0.1062290449085607+0j) [X0 X3] +\n(0.1566006248823793+0j) [X1] +\n(0.04919764587136754+0j) [X1 Z2] +\n(0.04919764587136754+0j) [X1 Z2 X3] +\n(0.16326768673564332+0j) [X1 X3]\n"
    }
   ],
   "source": [
    "print(u * comm_groups[1] * u)"
   ]
  },
  {
   "cell_type": "markdown",
   "metadata": {},
   "source": [
    "Alternatively, the qubit-tapering technique can exploit the symmetry in the Hamiltonian and find a smaller effective Hamitlonian. "
   ]
  },
  {
   "cell_type": "code",
   "execution_count": 12,
   "metadata": {
    "tags": []
   },
   "outputs": [
    {
     "output_type": "stream",
     "name": "stdout",
     "text": "The effective Hamiltonian:\n (-0.20344315975895527+0j) [] +\n(0.1967905834854702+0j) [X0] +\n(-0.5350572998841723+0j) [Z0]\n\nThe eigenvalues including that of ground state: \n [-1.10115031+0.j  0.03904763+0.j]\n"
    }
   ],
   "source": [
    "print(\"The effective Hamiltonian:\\n {}\".format(taper_hamiltonian(h2, n_spin_orbitals=4, n_electrons=2))) \n",
    "I, X, Z = np.identity(2), np.array([[0, 1], [1, 0]]), np.array([[1, 0], [0, -1]])\n",
    "\n",
    "h2_matrix = -0.20344315 * I + 0.19679058 * X - 0.53505729 * Z\n",
    "eigvals, _ = np.linalg.eigh(h2_matrix)\n",
    "print(\"\\nThe eigenvalues including ground state energy: \\n {}\".format(eigvals + constant))"
   ]
  },
  {
   "cell_type": "code",
   "execution_count": null,
   "metadata": {},
   "outputs": [],
   "source": []
  }
 ],
 "metadata": {
  "kernelspec": {
   "display_name": "qchem",
   "language": "python",
   "name": "qchem"
  },
  "language_info": {
   "codemirror_mode": {
    "name": "ipython",
    "version": 3
   },
   "file_extension": ".py",
   "mimetype": "text/x-python",
   "name": "python",
   "nbconvert_exporter": "python",
   "pygments_lexer": "ipython3",
   "version": "3.7.1-final"
  }
 },
 "nbformat": 4,
 "nbformat_minor": 2
}