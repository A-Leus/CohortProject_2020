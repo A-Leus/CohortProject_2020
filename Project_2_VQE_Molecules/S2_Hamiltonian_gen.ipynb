{
 "cells": [
  {
   "cell_type": "code",
   "execution_count": 1,
   "metadata": {},
   "outputs": [],
   "source": [
    "from utility import *"
   ]
  },
  {
   "cell_type": "markdown",
   "metadata": {},
   "source": [
    "Specify the Qubit Hamiltonian of a molecule by name, internuclear distances, and the basis set.\n",
    "Here, we show all the relevant terms of $H_2$. "
   ]
  },
  {
   "cell_type": "code",
   "execution_count": 2,
   "metadata": {
    "tags": []
   },
   "outputs": [
    {
     "output_type": "stream",
     "name": "stdout",
     "text": "(0.04919764587136755+0j) [X0 Z1 X2] +\n(0.04919764587136755+0j) [X0 Z1 X2 Z3] +\n(0.04919764587136755+0j) [Y0 Z1 Y2] +\n(0.04919764587136755+0j) [Y0 Z1 Y2 Z3] +\n(0.13716572937099497+0j) [Z0] +\n(0.13716572937099492+0j) [Z0 Z1] +\n(0.15542669077992832+0j) [Z0 Z1 Z2] +\n(0.15542669077992832+0j) [Z0 Z1 Z2 Z3] +\n(0.10622904490856075+0j) [Z0 Z2] +\n(0.10622904490856075+0j) [Z0 Z2 Z3] +\n(0.15660062488237947+0j) [Z1] +\n(-0.13036292057109117+0j) [Z1 Z2 Z3] +\n(0.16326768673564346+0j) [Z1 Z3] +\n(-0.13036292057109117+0j) [Z2]\n"
    }
   ],
   "source": [
    "h2 = get_qubit_hamiltonian(mol='h2', geometry=1, basis='sto3g')\n",
    "\n",
    "# This is due to a current tequila bug that fires when constant is invovled. We should be able to get rid of this line by July 1\n",
    "constant = h2.constant\n",
    "h2 = h2 - QubitOperator(term=[], coefficient=constant)\n",
    "print(h2)"
   ]
  },
  {
   "cell_type": "markdown",
   "metadata": {},
   "source": [
    "Alternatively, the qubit-tapering technique can exploit the symmetry in the Hamiltonian and find a smaller effective Hamitlonian. "
   ]
  },
  {
   "cell_type": "code",
   "execution_count": 3,
   "metadata": {
    "tags": []
   },
   "outputs": [
    {
     "output_type": "stream",
     "name": "stdout",
     "text": "The effective Hamiltonian:\n (-0.20344315975895527+0j) [] +\n(0.1967905834854702+0j) [X0] +\n(-0.5350572998841723+0j) [Z0]\n\nThe eigenvalues including ground state energy: \n [-1.10115031+0.j  0.03904763+0.j]\n"
    }
   ],
   "source": [
    "print(\"The effective Hamiltonian:\\n {}\".format(taper_hamiltonian(h2, n_spin_orbitals=4, n_electrons=2))) \n",
    "I, X, Z = np.identity(2), np.array([[0, 1], [1, 0]]), np.array([[1, 0], [0, -1]])\n",
    "\n",
    "h2_matrix = -0.20344315 * I + 0.19679058 * X - 0.53505729 * Z\n",
    "eigvals, _ = np.linalg.eigh(h2_matrix)\n",
    "print(\"\\nThe eigenvalues including ground state energy: \\n {}\".format(eigvals + constant))"
   ]
  }
 ],
 "metadata": {
  "kernelspec": {
   "display_name": "qchem",
   "language": "python",
   "name": "qchem"
  },
  "language_info": {
   "codemirror_mode": {
    "name": "ipython",
    "version": 3
   },
   "file_extension": ".py",
   "mimetype": "text/x-python",
   "name": "python",
   "nbconvert_exporter": "python",
   "pygments_lexer": "ipython3",
   "version": "3.7.1-final"
  }
 },
 "nbformat": 4,
 "nbformat_minor": 2
}