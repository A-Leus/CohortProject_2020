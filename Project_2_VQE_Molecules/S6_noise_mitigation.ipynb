{
 "cells": [
  {
   "cell_type": "markdown",
   "metadata": {
    "collapsed": true,
    "pycharm": {
     "name": "#%% md\n"
    }
   },
   "source": [
    "# Noise mitigation via zero-noise extrapolation\n",
    "\n",
    "Here we will use the functions developed in `./noise_mitigation_utils.py` to demonstrate how this technique can improve\n",
    " results when running on a noisy device."
   ]
  },
  {
   "cell_type": "code",
   "execution_count": null,
   "outputs": [],
   "source": [
    "from noise_mitigation_utils import NoiseMitigation\n",
    "from utility import *\n",
    "import numpy as np\n",
    "import qiskit\n",
    "import cirq\n",
    "import tequila as tq"
   ],
   "metadata": {
    "collapsed": false,
    "pycharm": {
     "name": "#%%\n"
    }
   }
  },
  {
   "cell_type": "markdown",
   "source": [
    "Let's take an ansatz trained in S3 and calculate the expectation value on a noisy device."
   ],
   "metadata": {
    "collapsed": false,
    "pycharm": {
     "name": "#%% md\n"
    }
   }
  },
  {
   "cell_type": "code",
   "execution_count": null,
   "outputs": [],
   "source": [
    "xyz_data = get_molecular_data('h2o', geometry=0.75, xyz_format=True)\n",
    "\n",
    "basis = '6-31g'\n",
    "active = {'B1':[0,1], 'A1':[2,3]}\n",
    "h2o = tq.quantumchemistry.Molecule(geometry=xyz_data, basis_set = basis, active_orbitals = active)\n",
    "exact = h2o.compute_energy(method='fci')\n",
    "hf_reference = hf_occ(2*h2o.n_orbitals, h2o.n_electrons)\n",
    "ham = h2o.make_hamiltonian()\n",
    "n_ents = ham.n_qubits\n",
    "ranked_entangler_groupings = generate_QCC_gradient_groupings(ham.to_openfermion(),\n",
    "                                                             2*h2o.n_orbitals,\n",
    "                                                             hf_reference,\n",
    "                                                             cutoff=1.e-6)\n",
    "entanglers = get_QCC_entanglers(ranked_entangler_groupings, n_ents, 2*h2o.n_orbitals)\n",
    "\n",
    "for l in range(1):\n",
    "    if l == 0:\n",
    "        qansatz = construct_QMF_ansatz(ham.n_qubits, l)\n",
    "    else:\n",
    "        qansatz += construct_QMF_ansatz(ham.n_qubits, l)\n",
    "    qansatz += construct_QCC_ansatz(entanglers)\n",
    "E = tq.ExpectationValue(H=ham, U=qansatz)\n",
    "init = {k : np.random.rand() for k in E.extract_variables()}\n",
    "noiseless = tq.minimize(objective=E, initial_values=init, method='adam', tol=1.0e-6, print_level=1)"
   ],
   "metadata": {
    "collapsed": false,
    "pycharm": {
     "name": "#%%\n"
    }
   }
  },
  {
   "cell_type": "code",
   "execution_count": null,
   "outputs": [],
   "source": [],
   "metadata": {
    "collapsed": false,
    "pycharm": {
     "name": "#%%\n"
    }
   }
  }
 ],
 "metadata": {
  "kernelspec": {
   "display_name": "Python 3",
   "language": "python",
   "name": "python3"
  },
  "language_info": {
   "codemirror_mode": {
    "name": "ipython",
    "version": 2
   },
   "file_extension": ".py",
   "mimetype": "text/x-python",
   "name": "python",
   "nbconvert_exporter": "python",
   "pygments_lexer": "ipython2",
   "version": "2.7.6"
  }
 },
 "nbformat": 4,
 "nbformat_minor": 0
}